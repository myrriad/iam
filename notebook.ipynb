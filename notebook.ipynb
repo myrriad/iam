{
 "cells": [
  {
   "cell_type": "code",
   "execution_count": 1,
   "metadata": {
    "collapsed": true
   },
   "outputs": [
    {
     "name": "stdout",
     "output_type": "stream",
     "text": [
      "2.0.0+cpu\n"
     ]
    }
   ],
   "source": [
    "# check pytorch version\n",
    "import torch\n",
    "print(torch.__version__)"
   ]
  },
  {
   "attachments": {},
   "cell_type": "markdown",
   "metadata": {
    "collapsed": false
   },
   "source": [
    "Following tutorial:\n",
    "https://machinelearningmastery.com/pytorch-tutorial-develop-deep-learning-models/\n",
    "\n",
    "Image loader:\n",
    "https://godatadriven.com/blog/how-to-build-your-first-image-classifier-using-pytorch/\n",
    "\n",
    "Note: for expensive computation, \n",
    "See: \n",
    "https://code.visualstudio.com/docs/datascience/jupyter-notebooks\n",
    "Under \"Connect to a remote Jupyter server\"\n",
    "\n",
    "Idea: perform *data augmentation*. https://en.wikipedia.org/wiki/Data_augmentation\n",
    "\n",
    "Using torchvision: *transform*.\n",
    "https://pytorch.org/vision/stable/transforms.html\n"
   ]
  },
  {
   "cell_type": "code",
   "execution_count": 11,
   "metadata": {
    "collapsed": false
   },
   "outputs": [
    {
     "name": "stdout",
     "output_type": "stream",
     "text": [
      "C:\\conjunct\\unline\n"
     ]
    }
   ],
   "source": [
    "%cd C:\\conjunct\\unline"
   ]
  },
  {
   "cell_type": "code",
   "execution_count": 1,
   "metadata": {
    "collapsed": false
   },
   "outputs": [],
   "source": []
  },
  {
   "cell_type": "code",
   "execution_count": 2,
   "outputs": [
    {
     "ename": "NameError",
     "evalue": "name 'test_dl' is not defined",
     "output_type": "error",
     "traceback": [
      "\u001B[1;31m---------------------------------------------------------------------------\u001B[0m",
      "\u001B[1;31mNameError\u001B[0m                                 Traceback (most recent call last)",
      "Cell \u001B[1;32mIn[2], line 1\u001B[0m\n\u001B[1;32m----> 1\u001B[0m evaluate_model(\u001B[43mtest_dl\u001B[49m, model)\n",
      "\u001B[1;31mNameError\u001B[0m: name 'test_dl' is not defined"
     ]
    }
   ],
   "source": [],
   "metadata": {
    "collapsed": false
   }
  },
  {
   "cell_type": "code",
   "execution_count": null,
   "outputs": [],
   "source": [],
   "metadata": {
    "collapsed": false
   }
  }
 ],
 "metadata": {
  "kernelspec": {
   "display_name": "venv",
   "language": "python",
   "name": "python3"
  },
  "language_info": {
   "codemirror_mode": {
    "name": "ipython",
    "version": 3
   },
   "file_extension": ".py",
   "mimetype": "text/x-python",
   "name": "python",
   "nbconvert_exporter": "python",
   "pygments_lexer": "ipython3",
   "version": "3.9.13"
  },
  "vscode": {
   "interpreter": {
    "hash": "2c996da107c070a32ef944c87098e0b0c9a82853a74b98d717571bb898df22ed"
   }
  }
 },
 "nbformat": 4,
 "nbformat_minor": 0
}
