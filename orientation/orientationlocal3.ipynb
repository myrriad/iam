{
 "cells": [
  {
   "cell_type": "markdown",
   "metadata": {
    "collapsed": false,
    "id": "rgpKTNP70MtD"
   },
   "source": [
    "# Setup"
   ]
  },
  {
   "cell_type": "code",
   "execution_count": 2,
   "metadata": {
    "id": "xE9CDR3V0MtI"
   },
   "outputs": [],
   "source": [
    "import os\n",
    "import io\n",
    "from typing import Tuple, List, Dict\n",
    "\n",
    "import numpy\n",
    "import sklearn as sklearn\n",
    "import torch\n",
    "import tqdm as tqdm\n",
    "from torch.nn import CrossEntropyLoss, BCELoss\n",
    "from torch.optim import SGD\n",
    "from torch.utils.data import Dataset\n",
    "\n",
    "from torchvision import transforms\n",
    "import torchvision.transforms.functional as F\n",
    "from torchvision.datasets import ImageFolder\n",
    "from IPython.display import display\n",
    "import torchvision\n",
    "\n",
    "from tqdm.notebook import tqdm\n",
    "from torchvision.models import densenet161\n",
    "\n",
    "from torch import nn"
   ]
  },
  {
   "cell_type": "code",
   "execution_count": 3,
   "metadata": {
    "colab": {
     "base_uri": "https://localhost:8080/"
    },
    "id": "Q7Xxbekz0MtK",
    "outputId": "29eca184-3850-47c4-c734-2745f0ce64c0"
   },
   "outputs": [
    {
     "output_type": "stream",
     "name": "stdout",
     "text": [
      "cuda\n"
     ]
    }
   ],
   "source": [
    "# use cuda if available\n",
    "device = torch.device(\"cuda\" if torch.cuda.is_available() else \"cpu\")\n",
    "print(device)"
   ]
  },
  {
   "cell_type": "code",
   "execution_count": 4,
   "metadata": {
    "colab": {
     "base_uri": "https://localhost:8080/"
    },
    "id": "z2ZbAcWI0Uad",
    "outputId": "c5dd6c41-f610-4792-9271-c10faa85aee9"
   },
   "outputs": [
    {
     "output_type": "stream",
     "name": "stdout",
     "text": [
      "Downloading...\n",
      "From: https://drive.google.com/uc?id=18rSkvFIR-XrICnFoYVe4kz93UCiwKo4-\n",
      "To: /content/sentences.tgz\n",
      "100% 686M/686M [00:06<00:00, 102MB/s] \n"
     ]
    }
   ],
   "source": [
    "# !gdown https://drive.google.com/uc?id=176kei7cLl-C5-E_t3amCfNYxugEqXhm3\n",
    "!gdown https://drive.google.com/uc?id=18rSkvFIR-XrICnFoYVe4kz93UCiwKo4-"
   ]
  },
  {
   "cell_type": "code",
   "execution_count": null,
   "metadata": {
    "id": "MKAmf_PJ0V4h"
   },
   "outputs": [],
   "source": [
    "!mkdir -p ../iamdataset/sentences-sample\n",
    "!tar xzvf sentences.tgz -C ../iamdataset/sentences-sample"
   ]
  },
  {
   "cell_type": "code",
   "execution_count": 7,
   "metadata": {
    "id": "uwwIn-9C0MtL"
   },
   "outputs": [],
   "source": [
    "import importlib\n",
    "from orientation_nn import OrientationImageFolder\n",
    "import orientation_nn\n",
    "importlib.reload(orientation_nn)\n",
    "from orientation_nn import OrientationCNN\n",
    "\n",
    "# %load_ext autoreload # %autoreload 1 # %aimport orientation_nn"
   ]
  },
  {
   "cell_type": "code",
   "execution_count": 8,
   "metadata": {
    "id": "0WrEScFN0MtL",
    "colab": {
     "base_uri": "https://localhost:8080/"
    },
    "outputId": "460955eb-1c7c-439b-ba54-c6e0fd3b0171"
   },
   "outputs": [
    {
     "output_type": "stream",
     "name": "stderr",
     "text": [
      "/usr/local/lib/python3.10/dist-packages/torchvision/models/_utils.py:208: UserWarning: The parameter 'pretrained' is deprecated since 0.13 and may be removed in the future, please use 'weights' instead.\n",
      "  warnings.warn(\n",
      "/usr/local/lib/python3.10/dist-packages/torchvision/models/_utils.py:223: UserWarning: Arguments other than a weight enum or `None` for 'weights' are deprecated since 0.13 and may be removed in the future. The current behavior is equivalent to passing `weights=DenseNet161_Weights.IMAGENET1K_V1`. You can also use `weights=DenseNet161_Weights.DEFAULT` to get the most up-to-date weights.\n",
      "  warnings.warn(msg)\n",
      "Downloading: \"https://download.pytorch.org/models/densenet161-8d451a50.pth\" to /root/.cache/torch/hub/checkpoints/densenet161-8d451a50.pth\n",
      "100%|██████████| 110M/110M [00:02<00:00, 48.8MB/s]\n"
     ]
    }
   ],
   "source": [
    "# model = None\n",
    "# load model from .pt\n",
    "# model = OrientationCNN()\n",
    "model = densenet161(pretrained=True)\n",
    "# model.load_state_dict(torch.load(\"model-Densenet.1.pt\"))\n",
    "\n",
    "\n",
    "# for param in model.parameters():\n",
    "    # param.requires_grad = False # freeze the pretrained part\n",
    "# model.classifier = nn.Linear(2208,2)\n",
    "model = model.to(device)\n"
   ]
  },
  {
   "cell_type": "code",
   "execution_count": 9,
   "metadata": {
    "id": "fIORLS0F0MtM"
   },
   "outputs": [],
   "source": [
    "dataset = OrientationImageFolder('../iamdataset/sentences-sample')"
   ]
  },
  {
   "cell_type": "code",
   "execution_count": 10,
   "metadata": {
    "id": "hlNiTNED0MtM"
   },
   "outputs": [],
   "source": [
    "train_transform = transforms.Compose([\n",
    "    # transforms.RandomCrop(224, padding=50),\n",
    "    # transforms.RandomResizedCrop(112, scale=(0.08, 0.25)),\n",
    "    # transforms.Grayscale(num_output_channels=1),\n",
    "    transforms.Resize(32), # (32, 256)),\n",
    "    # orientation_nn.PadToSize((256,32), pad_with=999999), #LOL if you put \"1\" it will pad with 0.00392157 but if you put a really big number then it will work. Real bruh moment\n",
    "\n",
    "    # transforms.RandomHorizontalFlip(),\n",
    "    # transforms.RandomRotation((180, 180)),\n",
    "    # transforms.RandomInvert(p=1),\n",
    "    # transforms.RandomInvert(p=1),\n",
    "    orientation_nn.PadToSize((224,224), pad_with=255, center=True),\n",
    "    transforms.CenterCrop(224),\n",
    "    transforms.ToTensor(),\n",
    "    # get transforms from densenet161\n",
    "    # torchvision.models.DenseNet161_Weights.DEFAULT.transforms()\n",
    "    # transforms.Normalize(mean=[0.485, 0.456, 0.406], std=[0.229, 0.224, 0.225]),\n",
    "\n",
    "])\n",
    "# test_transform = transforms.Compose([\n",
    "#     transforms.Grayscale(num_output_channels=1),\n",
    "#     transforms.Resize(32), # (32, 256)),\n",
    "#     orientation_nn.PadToSize((256,32), pad_with=999999), #LOL if you put \"1\" it will pad with 0.00392157 but if you put a really big number then it will work. Real bruh moment\n",
    "#     transforms.RandomCrop((32, 256)),\n",
    "#     # transforms.RandomInvert(p=0),\n",
    "#     transforms.ToTensor()\n",
    "# ])\n",
    "dataset.transform = train_transform\n",
    "\n",
    "# loader = torch.utils.data.DataLoader(dataset, batch_size=4, shuffle=True, num_workers=4)\n",
    "from torch.utils.data import DataLoader\n",
    "\n",
    "\n",
    "# test/train split\n",
    "# prepare the dataset\n",
    "def prepare_data(path):\n",
    "    # define standardization\n",
    "    # trans = Compose([ToTensor(), Normalize((0.1307,), (0.3081,))])\n",
    "    # load dataset\n",
    "    _datalen = len(dataset)\n",
    "    _trainlen = int(_datalen * .8)\n",
    "    train_set, test_set = torch.utils.data.random_split(dataset, [_trainlen, _datalen - _trainlen])\n",
    "\n",
    "    # prepare data loaders\n",
    "    train_dl = DataLoader(train_set, batch_size=16, shuffle=True, num_workers=2)\n",
    "    test_dl = DataLoader(test_set, batch_size=16, shuffle=False)\n",
    "    return train_dl, test_dl\n",
    "train_dl, test_dl = prepare_data(dataset)"
   ]
  },
  {
   "cell_type": "code",
   "execution_count": null,
   "metadata": {
    "id": "l5BsoEzE0MtN"
   },
   "outputs": [],
   "source": [
    "last = None\n",
    "def peek(train_dl):\n",
    "    # test it out by taking a peek\n",
    "    for _ in range(4):\n",
    "        img1b, lbl = next(iter(train_dl))\n",
    "            # img1 = F.to_pil_image(train_set.__getitem__(5)[0])\n",
    "            # print(img1, lbl)\n",
    "        print(img1b.shape, lbl.shape)\n",
    "        for i, img1 in enumerate(img1b):\n",
    "            img1 = F.to_pil_image(img1b[i], mode='RGB') # , mode='L') # grayscale\n",
    "            # img1.show()\n",
    "            print(f\"label: {'flipped' if lbl[i] else 'normal'}\")\n",
    "            # print(img1b[i])\n",
    "            display(img1)\n",
    "            global last\n",
    "            last = img1b[i]\n",
    "\n",
    "peek(train_dl)\n",
    "print(last)\n",
    "# print(last.numpy())"
   ]
  },
  {
   "cell_type": "code",
   "execution_count": 12,
   "metadata": {
    "id": "PsW6OT950MtO"
   },
   "outputs": [],
   "source": [
    "def validation(model, test_dl, criterion):\n",
    "    batch_loss = 0\n",
    "    total_t = 0\n",
    "    correct_t = 0\n",
    "    with torch.no_grad():\n",
    "\n",
    "        model.eval()\n",
    "        for inputs,targets in test_dl:\n",
    "            inputs,targets = inputs.to(device),targets.to(device)\n",
    "            yhat = model(inputs)\n",
    "            loss_t = criterion(yhat,targets)\n",
    "            batch_loss+=loss_t.item()\n",
    "            correct_t += (yhat.argmax(1) == targets).sum().item()\n",
    "            total_t += targets.size(0)\n",
    "        # val_acc.append(100 * correct_t/total_t)\n",
    "        # val_loss.append(batch_loss/len(test_dataloader))\n",
    "    # network_learned = batch_loss < valid_loss_min\n",
    "    print(f'validation loss: {batch_loss/len(test_dl)}, validation acc: {(100 * correct_t/total_t):.4f}\\n')\n",
    "    model.train()\n",
    "# train the model\n",
    "def train_model(train_dl, model):\n",
    "    # define the optimization\n",
    "    criterion = CrossEntropyLoss()\n",
    "    # criterion = BCELoss()\n",
    "    optimizer = torch.optim.Adam(model.parameters(), lr=1e-3) # , lr=0.01, momentum=0.9)\n",
    "    # enumerate epochs\n",
    "    # add progress bar\n",
    "\n",
    "    NUM_EPOCHS = 10\n",
    "    for epoch in range(NUM_EPOCHS):\n",
    "        # enumerate mini batches\n",
    "        loop = tqdm(train_dl)\n",
    "        loop.set_description(f\"Epoch [{epoch}/{NUM_EPOCHS}]\")\n",
    "\n",
    "        train_loss = 0\n",
    "        train_acc = 0\n",
    "        atts = 0\n",
    "        for i, (inputs, targets) in enumerate(loop):\n",
    "            # https://aladdinpersson.medium.com/how-to-get-a-progress-bar-in-pytorch-72bdbf19b35c\n",
    "\n",
    "            optimizer.zero_grad() # clear the gradients\n",
    "\n",
    "            inputs = inputs.to(device)\n",
    "            targets = targets.to(device)\n",
    "\n",
    "            yhat = model(inputs) # compute the model output\n",
    "            loss = criterion(yhat, targets) # , targets.reshape(-1, 1)) # calculate loss\n",
    "\n",
    "            # predicted = model(torch.tensor(inputs,dtype=torch.float32))\n",
    "            # acc = (predicted.reshape(-1).detach().numpy().round() == targets).mean()\n",
    "\n",
    "            loss.backward() # credit assignment\n",
    "            optimizer.step()  # update model weights\n",
    "\n",
    "            train_loss += loss.item()*inputs.size(0)\n",
    "            train_acc += (yhat.argmax(1) == targets).sum().item()\n",
    "            atts += inputs.size(0)\n",
    "            if atts % 1000 == 0:\n",
    "                print(f\"train_loss: {train_loss/atts}, train_acc: {train_acc/atts}\")\n",
    "            \n",
    "        # loop.set_postfix(loss=train_loss/len(train_dl.sampler), acc=train_acc/len(train_dl.sampler))\n",
    "        print(f\"train_loss: {train_loss/len(train_dl.sampler)}, train_acc: {train_acc/len(train_dl.sampler)}\")\n",
    "        validation(model, test_dl, criterion)\n",
    "\n",
    "        # save the model\n",
    "        torch.save(model.state_dict(), f'model-D4.{epoch}.pt')\n"
   ]
  },
  {
   "cell_type": "code",
   "execution_count": null,
   "metadata": {
    "id": "_-1qskx70MtO"
   },
   "outputs": [],
   "source": [
    "\n",
    "# model.dropout = nn.Dropout(0.2)"
   ]
  },
  {
   "cell_type": "code",
   "execution_count": 13,
   "metadata": {
    "colab": {
     "referenced_widgets": [
      "af7cde1332374d3eb4cfb5b472822504",
      "755b237ad4ee4fed8432ef3bdd1ca704",
      "eb016e93ef024842ae928546a0b79816",
      "bc9d5374127748f3a0e42bdba957fe78",
      "8b11780ba4ff41da8508ea9410a6f908",
      "773f9d91b09f4645b411a989e4d25063",
      "db09b44571df4673b1a5dd41e12c19bd",
      "e41d1affea2543bbb3f408d2333c3052",
      "01b15b87bfda4ce6acd08be5739e2c21",
      "df768cd70e364c12b6f437fb998849be",
      "c6eb2213089a4be184763c126c52d801",
      "864a85506a6646dbb248dd64323d443f",
      "d7c4785f9a0e442cb4c2a578baf46541",
      "a6802d272bfe4c4ba83c17f30e917a26",
      "682e8085789241498d033f4a45efa2dc",
      "a858693ed69b4580bb1a27198969043e",
      "23841ef7abfc4233ab62d8676e75eeaf",
      "5b610a9841304cb9a251207cb354b9f4",
      "2f4a7c9588704e87b5987b08fce4c742",
      "dc41e7134cc141fd82936c0fedcb7b4a",
      "35d46d5392234b7eb0eca3d8346debae",
      "ee68db8654f74b20a0f1cb8182f4f969",
      "74b8228ba6f549288fdadab97339a00e",
      "c2d474f6edf64b6989fccf9eca7c1719",
      "7eb8b29112f14346a208d38dd22d5d62",
      "dc560e4c704f4191bfa5ab85abaf5276",
      "80d111a94f8b4376b4f12e9538b06c38",
      "fc0ffac7ef4041dd96763337616a88de",
      "c4ed51f5066249e586089c370d1400df",
      "908661e7215e4ab5bc8364ebf9ebee09",
      "90549da7c4bb41aaa06a3260e3f14aa1",
      "dc9c777992db47d0b33b064d58b9698b",
      "83988b2bd9884748abd6e4e1694ee995",
      "8b24fedb1ca045f4818b7815dc4b7e98",
      "c0df999fad4b4bd6aff7999f8907e250",
      "344a5b969b0145308d64fc69dae10139",
      "811fb6bd86654a73be4f37f3fd20500b",
      "7f9d345c406b48288881ab3ddd4ef242",
      "97d5bd2f19ab4c35a5698a0ec5c2f844",
      "d9b471c2310d4b52abfd7472ca8271a2",
      "cb0e512888c84eed81f296f8425c2e20",
      "6c3027add92844669f825f13b303bedb",
      "582f0c2ecb404e8fbfa05cf078ad32f7",
      "759711d262294ff1818dd0f62b37c73e"
     ],
     "base_uri": "https://localhost:8080/",
     "height": 1000
    },
    "id": "JWil-CRE0MtO",
    "outputId": "8a4a50d8-168f-4d93-bcd7-84cbb1295f0a"
   },
   "outputs": [
    {
     "output_type": "stream",
     "name": "stdout",
     "text": [
      "26803 6701\n"
     ]
    },
    {
     "output_type": "display_data",
     "data": {
      "text/plain": [
       "  0%|          | 0/1676 [00:00<?, ?it/s]"
      ],
      "application/vnd.jupyter.widget-view+json": {
       "version_major": 2,
       "version_minor": 0,
       "model_id": "af7cde1332374d3eb4cfb5b472822504"
      }
     },
     "metadata": {}
    },
    {
     "output_type": "stream",
     "name": "stdout",
     "text": [
      "train_loss: 0.43775143221393226, train_acc: 0.885\n",
      "train_loss: 0.29802781546115875, train_acc: 0.912\n",
      "train_loss: 0.23955459482471148, train_acc: 0.9248333333333333\n",
      "train_loss: 0.20617036036681383, train_acc: 0.93425\n",
      "train_loss: 0.1868983542781323, train_acc: 0.9388\n",
      "train_loss: 0.1691316756727174, train_acc: 0.9436666666666667\n",
      "train_loss: 0.16248637958828893, train_acc: 0.9449285714285715\n",
      "train_loss: 0.1539090593192377, train_acc: 0.947\n",
      "train_loss: 0.14268093998572376, train_acc: 0.9507777777777778\n",
      "train_loss: 0.13437296795856674, train_acc: 0.95305\n",
      "train_loss: 0.12808437421361238, train_acc: 0.9549090909090909\n",
      "train_loss: 0.1233082458540448, train_acc: 0.9566666666666667\n",
      "train_loss: 0.1194307105323443, train_acc: 0.9577692307692308\n",
      "train_loss: 0.11918018454277635, train_acc: 0.9579151587508861\n",
      "validation loss: 0.10374870370608935, validation acc: 96.1349\n",
      "\n"
     ]
    },
    {
     "output_type": "display_data",
     "data": {
      "text/plain": [
       "  0%|          | 0/1676 [00:00<?, ?it/s]"
      ],
      "application/vnd.jupyter.widget-view+json": {
       "version_major": 2,
       "version_minor": 0,
       "model_id": "864a85506a6646dbb248dd64323d443f"
      }
     },
     "metadata": {}
    },
    {
     "output_type": "stream",
     "name": "stdout",
     "text": [
      "train_loss: 0.06094251779094338, train_acc: 0.9775\n",
      "train_loss: 0.06080795806529932, train_acc: 0.9785\n",
      "train_loss: 0.05903971089542999, train_acc: 0.9791666666666666\n",
      "train_loss: 0.05800505651690764, train_acc: 0.979\n",
      "train_loss: 0.05691151999393478, train_acc: 0.9791\n",
      "train_loss: 0.054706012001338726, train_acc: 0.9795\n",
      "train_loss: 0.05629496616582453, train_acc: 0.9786428571428571\n",
      "train_loss: 0.05699269112218462, train_acc: 0.9783125\n",
      "train_loss: 0.05678223727171361, train_acc: 0.9785555555555555\n",
      "train_loss: 0.054948539312300274, train_acc: 0.9792\n",
      "train_loss: 0.054631683253270405, train_acc: 0.9793181818181819\n",
      "train_loss: 0.05370076360374999, train_acc: 0.9797083333333333\n",
      "train_loss: 0.0544544322729254, train_acc: 0.9793076923076923\n",
      "train_loss: 0.0535388125780553, train_acc: 0.9797410737604\n",
      "validation loss: 0.03345300438781913, validation acc: 98.7614\n",
      "\n"
     ]
    },
    {
     "output_type": "display_data",
     "data": {
      "text/plain": [
       "  0%|          | 0/1676 [00:00<?, ?it/s]"
      ],
      "application/vnd.jupyter.widget-view+json": {
       "version_major": 2,
       "version_minor": 0,
       "model_id": "74b8228ba6f549288fdadab97339a00e"
      }
     },
     "metadata": {}
    },
    {
     "output_type": "stream",
     "name": "stdout",
     "text": [
      "train_loss: 0.04204647669766564, train_acc: 0.986\n",
      "train_loss: 0.038115510403120424, train_acc: 0.98725\n",
      "train_loss: 0.04708924303176658, train_acc: 0.9836666666666667\n",
      "train_loss: 0.041554167455107746, train_acc: 0.985\n",
      "train_loss: 0.04022245472125505, train_acc: 0.985\n",
      "train_loss: 0.04056220463510181, train_acc: 0.9853333333333333\n",
      "train_loss: 0.041173935300027165, train_acc: 0.9855\n",
      "train_loss: 0.039378183347515916, train_acc: 0.985875\n",
      "train_loss: 0.0393065386624795, train_acc: 0.9855555555555555\n",
      "train_loss: 0.0395583423030861, train_acc: 0.9856\n",
      "train_loss: 0.04057496974614398, train_acc: 0.9851363636363636\n",
      "train_loss: 0.04002207214079499, train_acc: 0.9852083333333334\n",
      "train_loss: 0.03919782291461384, train_acc: 0.985423076923077\n",
      "train_loss: 0.039625205595363595, train_acc: 0.9853001529679514\n",
      "validation loss: 0.6119679694324021, validation acc: 81.2118\n",
      "\n"
     ]
    },
    {
     "output_type": "display_data",
     "data": {
      "text/plain": [
       "  0%|          | 0/1676 [00:00<?, ?it/s]"
      ],
      "application/vnd.jupyter.widget-view+json": {
       "version_major": 2,
       "version_minor": 0,
       "model_id": "8b24fedb1ca045f4818b7815dc4b7e98"
      }
     },
     "metadata": {}
    },
    {
     "output_type": "stream",
     "name": "stdout",
     "text": [
      "train_loss: 0.035393195628304966, train_acc: 0.988\n",
      "train_loss: 0.02693963547050225, train_acc: 0.98975\n"
     ]
    },
    {
     "output_type": "error",
     "ename": "KeyboardInterrupt",
     "evalue": "ignored",
     "traceback": [
      "\u001B[0;31m---------------------------------------------------------------------------\u001B[0m",
      "\u001B[0;31mKeyboardInterrupt\u001B[0m                         Traceback (most recent call last)",
      "\u001B[0;32m<ipython-input-13-bd93fc214e0a>\u001B[0m in \u001B[0;36m<cell line: 12>\u001B[0;34m()\u001B[0m\n\u001B[1;32m     10\u001B[0m \u001B[0;31m# train_dl.to(device)\u001B[0m\u001B[0;34m\u001B[0m\u001B[0;34m\u001B[0m\u001B[0m\n\u001B[1;32m     11\u001B[0m \u001B[0;31m# # train the model\u001B[0m\u001B[0;34m\u001B[0m\u001B[0;34m\u001B[0m\u001B[0m\n\u001B[0;32m---> 12\u001B[0;31m \u001B[0mtrain_model\u001B[0m\u001B[0;34m(\u001B[0m\u001B[0mtrain_dl\u001B[0m\u001B[0;34m,\u001B[0m \u001B[0mmodel\u001B[0m\u001B[0;34m)\u001B[0m\u001B[0;34m\u001B[0m\u001B[0;34m\u001B[0m\u001B[0m\n\u001B[0m\u001B[1;32m     13\u001B[0m \u001B[0;31m# evaluate the model\u001B[0m\u001B[0;34m\u001B[0m\u001B[0;34m\u001B[0m\u001B[0m\n\u001B[1;32m     14\u001B[0m \u001B[0;31m# acc = evaluate_model(test_dl, model)\u001B[0m\u001B[0;34m\u001B[0m\u001B[0;34m\u001B[0m\u001B[0m\n",
      "\u001B[0;32m<ipython-input-12-ae5e0cd3ce87>\u001B[0m in \u001B[0;36mtrain_model\u001B[0;34m(train_dl, model)\u001B[0m\n\u001B[1;32m     50\u001B[0m             \u001B[0;31m# acc = (predicted.reshape(-1).detach().numpy().round() == targets).mean()\u001B[0m\u001B[0;34m\u001B[0m\u001B[0;34m\u001B[0m\u001B[0m\n\u001B[1;32m     51\u001B[0m \u001B[0;34m\u001B[0m\u001B[0m\n\u001B[0;32m---> 52\u001B[0;31m             \u001B[0mloss\u001B[0m\u001B[0;34m.\u001B[0m\u001B[0mbackward\u001B[0m\u001B[0;34m(\u001B[0m\u001B[0;34m)\u001B[0m \u001B[0;31m# credit assignment\u001B[0m\u001B[0;34m\u001B[0m\u001B[0;34m\u001B[0m\u001B[0m\n\u001B[0m\u001B[1;32m     53\u001B[0m             \u001B[0moptimizer\u001B[0m\u001B[0;34m.\u001B[0m\u001B[0mstep\u001B[0m\u001B[0;34m(\u001B[0m\u001B[0;34m)\u001B[0m  \u001B[0;31m# update model weights\u001B[0m\u001B[0;34m\u001B[0m\u001B[0;34m\u001B[0m\u001B[0m\n\u001B[1;32m     54\u001B[0m \u001B[0;34m\u001B[0m\u001B[0m\n",
      "\u001B[0;32m/usr/local/lib/python3.10/dist-packages/torch/_tensor.py\u001B[0m in \u001B[0;36mbackward\u001B[0;34m(self, gradient, retain_graph, create_graph, inputs)\u001B[0m\n\u001B[1;32m    485\u001B[0m                 \u001B[0minputs\u001B[0m\u001B[0;34m=\u001B[0m\u001B[0minputs\u001B[0m\u001B[0;34m,\u001B[0m\u001B[0;34m\u001B[0m\u001B[0;34m\u001B[0m\u001B[0m\n\u001B[1;32m    486\u001B[0m             )\n\u001B[0;32m--> 487\u001B[0;31m         torch.autograd.backward(\n\u001B[0m\u001B[1;32m    488\u001B[0m             \u001B[0mself\u001B[0m\u001B[0;34m,\u001B[0m \u001B[0mgradient\u001B[0m\u001B[0;34m,\u001B[0m \u001B[0mretain_graph\u001B[0m\u001B[0;34m,\u001B[0m \u001B[0mcreate_graph\u001B[0m\u001B[0;34m,\u001B[0m \u001B[0minputs\u001B[0m\u001B[0;34m=\u001B[0m\u001B[0minputs\u001B[0m\u001B[0;34m\u001B[0m\u001B[0;34m\u001B[0m\u001B[0m\n\u001B[1;32m    489\u001B[0m         )\n",
      "\u001B[0;32m/usr/local/lib/python3.10/dist-packages/torch/autograd/__init__.py\u001B[0m in \u001B[0;36mbackward\u001B[0;34m(tensors, grad_tensors, retain_graph, create_graph, grad_variables, inputs)\u001B[0m\n\u001B[1;32m    198\u001B[0m     \u001B[0;31m# some Python versions print out the first line of a multi-line function\u001B[0m\u001B[0;34m\u001B[0m\u001B[0;34m\u001B[0m\u001B[0m\n\u001B[1;32m    199\u001B[0m     \u001B[0;31m# calls in the traceback and some print out the last line\u001B[0m\u001B[0;34m\u001B[0m\u001B[0;34m\u001B[0m\u001B[0m\n\u001B[0;32m--> 200\u001B[0;31m     Variable._execution_engine.run_backward(  # Calls into the C++ engine to run the backward pass\n\u001B[0m\u001B[1;32m    201\u001B[0m         \u001B[0mtensors\u001B[0m\u001B[0;34m,\u001B[0m \u001B[0mgrad_tensors_\u001B[0m\u001B[0;34m,\u001B[0m \u001B[0mretain_graph\u001B[0m\u001B[0;34m,\u001B[0m \u001B[0mcreate_graph\u001B[0m\u001B[0;34m,\u001B[0m \u001B[0minputs\u001B[0m\u001B[0;34m,\u001B[0m\u001B[0;34m\u001B[0m\u001B[0;34m\u001B[0m\u001B[0m\n\u001B[1;32m    202\u001B[0m         allow_unreachable=True, accumulate_grad=True)  # Calls into the C++ engine to run the backward pass\n",
      "\u001B[0;31mKeyboardInterrupt\u001B[0m: "
     ]
    }
   ],
   "source": [
    "# prepare the data\n",
    "# path = '~/.torch/datasets/mnist'\n",
    "train_dl, test_dl = prepare_data('')\n",
    "print(len(train_dl.dataset), len(test_dl.dataset))\n",
    "# define the network\n",
    "if model is None:\n",
    "    print('reset!')\n",
    "    model = OrientationCNN()\n",
    "model = model.to(device)\n",
    "# train_dl.to(device)\n",
    "# # train the model\n",
    "train_model(train_dl, model)\n",
    "# evaluate the model\n",
    "# acc = evaluate_model(test_dl, model)\n",
    "# print('Accuracy: %.3f' % acc)"
   ]
  },
  {
   "cell_type": "code",
   "source": [
    "# model.load_state_dict(torch.load(\"model-D4.1.pt\"))"
   ],
   "metadata": {
    "colab": {
     "base_uri": "https://localhost:8080/"
    },
    "id": "xg0w9WjF5_R1",
    "outputId": "14eb1f3c-a782-4994-c7f7-2fecb7847443"
   },
   "execution_count": 15,
   "outputs": [
    {
     "output_type": "execute_result",
     "data": {
      "text/plain": [
       "<All keys matched successfully>"
      ]
     },
     "metadata": {},
     "execution_count": 15
    }
   ]
  },
  {
   "cell_type": "code",
   "execution_count": 25,
   "metadata": {
    "colab": {
     "base_uri": "https://localhost:8080/",
     "height": 1000
    },
    "id": "UpYfb7WI0MtP",
    "outputId": "6e6c7b6f-d638-4925-baac-bb48135ff517"
   },
   "outputs": [
    {
     "output_type": "stream",
     "name": "stdout",
     "text": [
      "torch.Size([16, 3, 224, 224]) torch.Size([16])\n",
      "label: normal\n",
      "predicted: normal\n"
     ]
    },
    {
     "output_type": "display_data",
     "data": {
      "text/plain": [
       "<PIL.Image.Image image mode=RGB size=224x224 at 0x7F472466F4F0>"
      ],
      "image/png": "[encoded data removed]"
     },
     "metadata": {}
    },
    {
     "output_type": "stream",
     "name": "stdout",
     "text": [
      "label: normal\n",
      "predicted: flipped\n"
     ]
    },
    {
     "output_type": "display_data",
     "data": {
      "text/plain": [
       "<PIL.Image.Image image mode=RGB size=224x224 at 0x7F472466CEE0>"
      ],
      "image/png": "[encoded data removed]"
     },
     "metadata": {}
    },
    {
     "output_type": "stream",
     "name": "stdout",
     "text": [
      "label: flipped\n",
      "predicted: normal\n"
     ]
    },
    {
     "output_type": "display_data",
     "data": {
      "text/plain": [
       "<PIL.Image.Image image mode=RGB size=224x224 at 0x7F472466C940>"
      ],
      "image/png": "[encoded data removed]"
     },
     "metadata": {}
    },
    {
     "output_type": "stream",
     "name": "stdout",
     "text": [
      "label: flipped\n",
      "predicted: flipped\n"
     ]
    },
    {
     "output_type": "display_data",
     "data": {
      "text/plain": [
       "<PIL.Image.Image image mode=RGB size=224x224 at 0x7F472466FB80>"
      ],
      "image/png": "[encoded data removed]"
     },
     "metadata": {}
    },
    {
     "output_type": "stream",
     "name": "stdout",
     "text": [
      "label: flipped\n",
      "predicted: flipped\n"
     ]
    },
    {
     "output_type": "display_data",
     "data": {
      "text/plain": [
       "<PIL.Image.Image image mode=RGB size=224x224 at 0x7F472466FD00>"
      ],
      "image/png": "[encoded data removed]"
     },
     "metadata": {}
    },
    {
     "output_type": "stream",
     "name": "stdout",
     "text": [
      "label: flipped\n",
      "predicted: flipped\n"
     ]
    },
    {
     "output_type": "display_data",
     "data": {
      "text/plain": [
       "<PIL.Image.Image image mode=RGB size=224x224 at 0x7F472466FCA0>"
      ],
      "image/png": "[encoded data removed]"
     },
     "metadata": {}
    },
    {
     "output_type": "stream",
     "name": "stdout",
     "text": [
      "label: flipped\n",
      "predicted: flipped\n"
     ]
    },
    {
     "output_type": "display_data",
     "data": {
      "text/plain": [
       "<PIL.Image.Image image mode=RGB size=224x224 at 0x7F472466EC20>"
      ],
      "image/png": "[encoded data removed]"
     },
     "metadata": {}
    },
    {
     "output_type": "stream",
     "name": "stdout",
     "text": [
      "label: normal\n",
      "predicted: normal\n"
     ]
    },
    {
     "output_type": "display_data",
     "data": {
      "text/plain": [
       "<PIL.Image.Image image mode=RGB size=224x224 at 0x7F472466FB80>"
      ],
      "image/png": "[encoded data removed]"
     },
     "metadata": {}
    },
    {
     "output_type": "stream",
     "name": "stdout",
     "text": [
      "label: normal\n",
      "predicted: normal\n"
     ]
    },
    {
     "output_type": "display_data",
     "data": {
      "text/plain": [
       "<PIL.Image.Image image mode=RGB size=224x224 at 0x7F472466D090>"
      ],
      "image/png": "[encoded data removed]"
     },
     "metadata": {}
    },
    {
     "output_type": "stream",
     "name": "stdout",
     "text": [
      "label: flipped\n",
      "predicted: flipped\n"
     ]
    },
    {
     "output_type": "display_data",
     "data": {
      "text/plain": [
       "<PIL.Image.Image image mode=RGB size=224x224 at 0x7F472466F1C0>"
      ],
      "image/png": "[encoded data removed]"
     },
     "metadata": {}
    },
    {
     "output_type": "stream",
     "name": "stdout",
     "text": [
      "label: flipped\n",
      "predicted: flipped\n"
     ]
    },
    {
     "output_type": "display_data",
     "data": {
      "text/plain": [
       "<PIL.Image.Image image mode=RGB size=224x224 at 0x7F472466E410>"
      ],
      "image/png": "[encoded data removed]"
     },
     "metadata": {}
    },
    {
     "output_type": "stream",
     "name": "stdout",
     "text": [
      "label: flipped\n",
      "predicted: flipped\n"
     ]
    },
    {
     "output_type": "display_data",
     "data": {
      "text/plain": [
       "<PIL.Image.Image image mode=RGB size=224x224 at 0x7F472466E650>"
      ],
      "image/png": "[encoded data removed]"
     },
     "metadata": {}
    },
    {
     "output_type": "stream",
     "name": "stdout",
     "text": [
      "label: flipped\n",
      "predicted: flipped\n"
     ]
    },
    {
     "output_type": "display_data",
     "data": {
      "text/plain": [
       "<PIL.Image.Image image mode=RGB size=224x224 at 0x7F472466E920>"
      ],
      "image/png": "[encoded data removed]"
     },
     "metadata": {}
    },
    {
     "output_type": "stream",
     "name": "stdout",
     "text": [
      "label: normal\n",
      "predicted: normal\n"
     ]
    },
    {
     "output_type": "display_data",
     "data": {
      "text/plain": [
       "<PIL.Image.Image image mode=RGB size=224x224 at 0x7F472466C040>"
      ],
      "image/png": "[encoded data removed]"
     },
     "metadata": {}
    },
    {
     "output_type": "stream",
     "name": "stdout",
     "text": [
      "label: normal\n",
      "predicted: normal\n"
     ]
    },
    {
     "output_type": "display_data",
     "data": {
      "text/plain": [
       "<PIL.Image.Image image mode=RGB size=224x224 at 0x7F472466EC20>"
      ],
      "image/png": "[encoded data removed]"
     },
     "metadata": {}
    },
    {
     "output_type": "stream",
     "name": "stdout",
     "text": [
      "label: flipped\n",
      "predicted: flipped\n"
     ]
    },
    {
     "output_type": "display_data",
     "data": {
      "text/plain": [
       "<PIL.Image.Image image mode=RGB size=224x224 at 0x7F472466CF10>"
      ],
      "image/png": "[encoded data removed]"
     },
     "metadata": {}
    },
    {
     "output_type": "execute_result",
     "data": {
      "text/plain": [
       "'\\nprint(last)\\n# print(last.numpy())\\n# get element 5618 of train_dl and run it through the model\\nmodel.eval() # model does a lot better in eval because of dropout\\n\\nfor i in range(600, 630):\\n  ele, target = train_dl.dataset.__getitem__(i)\\n  # run it through model\\n  ele, target = ele.to(device), target\\n  result = model(ele.unsqueeze(0)).detach().cpu().numpy() # unsqueeze converts it to a 1-batch\\n  result = result.argmax(1)\\n  print(f\"{i}: {result}, {target}\")\\n  # ele\\nmodel.train()\\n'"
      ],
      "application/vnd.google.colaboratory.intrinsic+json": {
       "type": "string"
      }
     },
     "metadata": {},
     "execution_count": 25
    }
   ],
   "source": [
    "\n",
    "last = None\n",
    "def peek_trained(dl, model):\n",
    "    model.eval()\n",
    "    with torch.no_grad():\n",
    "        # test it out by taking a peek\n",
    "        for _ in range(1):\n",
    "            img1b, lbl = next(iter(dl))\n",
    "                # img1 = F.to_pil_image(train_set.__getitem__(5)[0])\n",
    "                # print(img1, lbl)\n",
    "            print(img1b.shape, lbl.shape)\n",
    "            for i, _ in enumerate(img1b):\n",
    "                ele = img1b.to(device)\n",
    "                result = model(ele).detach().cpu().numpy()\n",
    "                result = result.argmax(1)\n",
    "\n",
    "                img1 = F.to_pil_image(img1b[i], mode='RGB') # , mode='L') # grayscale\n",
    "                # img1.show()\n",
    "                print(f\"label: {'flipped' if lbl[i] else 'normal'}\")\n",
    "                # print(result)\n",
    "                print(f\"predicted: {'flipped' if result[i] else 'normal'}\")\n",
    "                # print(img1b[i])\n",
    "                display(img1)\n",
    "                global last\n",
    "                last = img1b[i]\n",
    "\n",
    "\n",
    "    model.train()\n",
    "\n",
    "peek_trained(test_dl, model)\n",
    "\"\"\"\n",
    "print(last)\n",
    "# print(last.numpy())\n",
    "# get element 5618 of train_dl and run it through the model\n",
    "model.eval() # model does a lot better in eval because of dropout\n",
    "\n",
    "for i in range(600, 630):\n",
    "  ele, target = train_dl.dataset.__getitem__(i)\n",
    "  # run it through model\n",
    "  ele, target = ele.to(device), target\n",
    "  result = model(ele.unsqueeze(0)).detach().cpu().numpy() # unsqueeze converts it to a 1-batch\n",
    "  result = result.argmax(1)\n",
    "  print(f\"{i}: {result}, {target}\")\n",
    "  # ele\n",
    "model.train()\n",
    "\"\"\""
   ]
  },
  {
   "cell_type": "code",
   "execution_count": null,
   "metadata": {
    "id": "vQ78EZbR0MtP"
   },
   "outputs": [],
   "source": [
    "print(model)\n",
    "# get shape of tensor of dataset\n",
    "print(dataset[0][0].shape)\n",
    "\n",
    "from torchsummary import summary\n",
    "\n",
    "# train_dl has torch.Size([4, 3, 32, 256]) with batch_size = 4\n",
    "summary(model, (1, 32, 128))"
   ]
  },
  {
   "cell_type": "code",
   "execution_count": null,
   "metadata": {
    "id": "fuZg5OZ00MtP"
   },
   "outputs": [],
   "source": [
    "# load model from .pt file\n",
    "# model = OrientationCNN()\n",
    "# model.load_state_dict(torch.load('model_scripted.pt'))\n",
    "# model.eval()\n",
    "model = torch.jit.load('model_scripted.pt')"
   ]
  },
  {
   "cell_type": "code",
   "execution_count": null,
   "metadata": {
    "id": "O6sYMEsu0MtP"
   },
   "outputs": [],
   "source": [
    "from sklearn.metrics import accuracy_score\n",
    "from numpy import vstack\n",
    "\n",
    "\n",
    "# evaluate the model\n",
    "def evaluate_model(test_dl, model):\n",
    "    predictions, actuals = list(), list()\n",
    "    loop = tqdm(test_dl)\n",
    "    loop.set_description(f\"Evaluating model\")\n",
    "    for i, (inputs, targets) in enumerate(loop):\n",
    "        # evaluate the model on the test set\n",
    "        yhat = model(inputs)\n",
    "        # retrieve numpy array\n",
    "        yhat = yhat.detach().numpy()\n",
    "        actual = targets.numpy()\n",
    "        actual = actual.reshape((len(actual), 1))\n",
    "        # round to class values\n",
    "        yhat = yhat.round()\n",
    "        # store\n",
    "        predictions.append(yhat)\n",
    "        actuals.append(actual)\n",
    "    predictions, actuals = vstack(predictions), vstack(actuals)\n",
    "    # calculate accuracy\n",
    "    acc = accuracy_score(actuals, predictions)\n",
    "    return acc"
   ]
  },
  {
   "cell_type": "code",
   "execution_count": null,
   "metadata": {
    "colab": {
     "referenced_widgets": [
      "044493f5a7be47779d511510820798eb"
     ]
    },
    "id": "5hwdgfzb0MtQ",
    "outputId": "d8981b60-e2cf-4199-c0c3-09b3bdbf01f3"
   },
   "outputs": [
    {
     "data": {
      "application/vnd.jupyter.widget-view+json": {
       "model_id": "044493f5a7be47779d511510820798eb",
       "version_major": 2,
       "version_minor": 0
      },
      "text/plain": "  0%|          | 0/419 [00:00<?, ?it/s]"
     },
     "metadata": {},
     "output_type": "display_data"
    },
    {
     "ename": "ValueError",
     "evalue": "Classification metrics can't handle a mix of binary and multiclass-multioutput targets",
     "output_type": "error",
     "traceback": [
      "\u001B[1;31m---------------------------------------------------------------------------\u001B[0m",
      "\u001B[1;31mValueError\u001B[0m                                Traceback (most recent call last)",
      "Cell \u001B[1;32mIn[59], line 1\u001B[0m\n\u001B[1;32m----> 1\u001B[0m \u001B[43mevaluate_model\u001B[49m\u001B[43m(\u001B[49m\u001B[43mtest_dl\u001B[49m\u001B[43m,\u001B[49m\u001B[43m \u001B[49m\u001B[43mmodel\u001B[49m\u001B[43m)\u001B[49m\n",
      "Cell \u001B[1;32mIn[58], line 24\u001B[0m, in \u001B[0;36mevaluate_model\u001B[1;34m(test_dl, model)\u001B[0m\n\u001B[0;32m     22\u001B[0m predictions, actuals \u001B[38;5;241m=\u001B[39m vstack(predictions), vstack(actuals)\n\u001B[0;32m     23\u001B[0m \u001B[38;5;66;03m# calculate accuracy\u001B[39;00m\n\u001B[1;32m---> 24\u001B[0m acc \u001B[38;5;241m=\u001B[39m \u001B[43maccuracy_score\u001B[49m\u001B[43m(\u001B[49m\u001B[43mactuals\u001B[49m\u001B[43m,\u001B[49m\u001B[43m \u001B[49m\u001B[43mpredictions\u001B[49m\u001B[43m)\u001B[49m\n\u001B[0;32m     25\u001B[0m \u001B[38;5;28;01mreturn\u001B[39;00m acc\n",
      "File \u001B[1;32mC:\\conjunct\\unline\\venv\\lib\\site-packages\\sklearn\\utils\\_param_validation.py:192\u001B[0m, in \u001B[0;36mvalidate_params.<locals>.decorator.<locals>.wrapper\u001B[1;34m(*args, **kwargs)\u001B[0m\n\u001B[0;32m    187\u001B[0m validate_parameter_constraints(\n\u001B[0;32m    188\u001B[0m     parameter_constraints, params, caller_name\u001B[38;5;241m=\u001B[39mfunc\u001B[38;5;241m.\u001B[39m\u001B[38;5;18m__qualname__\u001B[39m\n\u001B[0;32m    189\u001B[0m )\n\u001B[0;32m    191\u001B[0m \u001B[38;5;28;01mtry\u001B[39;00m:\n\u001B[1;32m--> 192\u001B[0m     \u001B[38;5;28;01mreturn\u001B[39;00m func(\u001B[38;5;241m*\u001B[39margs, \u001B[38;5;241m*\u001B[39m\u001B[38;5;241m*\u001B[39mkwargs)\n\u001B[0;32m    193\u001B[0m \u001B[38;5;28;01mexcept\u001B[39;00m InvalidParameterError \u001B[38;5;28;01mas\u001B[39;00m e:\n\u001B[0;32m    194\u001B[0m     \u001B[38;5;66;03m# When the function is just a wrapper around an estimator, we allow\u001B[39;00m\n\u001B[0;32m    195\u001B[0m     \u001B[38;5;66;03m# the function to delegate validation to the estimator, but we replace\u001B[39;00m\n\u001B[0;32m    196\u001B[0m     \u001B[38;5;66;03m# the name of the estimator by the name of the function in the error\u001B[39;00m\n\u001B[0;32m    197\u001B[0m     \u001B[38;5;66;03m# message to avoid confusion.\u001B[39;00m\n\u001B[0;32m    198\u001B[0m     msg \u001B[38;5;241m=\u001B[39m re\u001B[38;5;241m.\u001B[39msub(\n\u001B[0;32m    199\u001B[0m         \u001B[38;5;124mr\u001B[39m\u001B[38;5;124m\"\u001B[39m\u001B[38;5;124mparameter of \u001B[39m\u001B[38;5;124m\\\u001B[39m\u001B[38;5;124mw+ must be\u001B[39m\u001B[38;5;124m\"\u001B[39m,\n\u001B[0;32m    200\u001B[0m         \u001B[38;5;124mf\u001B[39m\u001B[38;5;124m\"\u001B[39m\u001B[38;5;124mparameter of \u001B[39m\u001B[38;5;132;01m{\u001B[39;00mfunc\u001B[38;5;241m.\u001B[39m\u001B[38;5;18m__qualname__\u001B[39m\u001B[38;5;132;01m}\u001B[39;00m\u001B[38;5;124m must be\u001B[39m\u001B[38;5;124m\"\u001B[39m,\n\u001B[0;32m    201\u001B[0m         \u001B[38;5;28mstr\u001B[39m(e),\n\u001B[0;32m    202\u001B[0m     )\n",
      "File \u001B[1;32mC:\\conjunct\\unline\\venv\\lib\\site-packages\\sklearn\\metrics\\_classification.py:221\u001B[0m, in \u001B[0;36maccuracy_score\u001B[1;34m(y_true, y_pred, normalize, sample_weight)\u001B[0m\n\u001B[0;32m    155\u001B[0m \u001B[38;5;250m\u001B[39m\u001B[38;5;124;03m\"\"\"Accuracy classification score.\u001B[39;00m\n\u001B[0;32m    156\u001B[0m \n\u001B[0;32m    157\u001B[0m \u001B[38;5;124;03mIn multilabel classification, this function computes subset accuracy:\u001B[39;00m\n\u001B[1;32m   (...)\u001B[0m\n\u001B[0;32m    217\u001B[0m \u001B[38;5;124;03m0.5\u001B[39;00m\n\u001B[0;32m    218\u001B[0m \u001B[38;5;124;03m\"\"\"\u001B[39;00m\n\u001B[0;32m    220\u001B[0m \u001B[38;5;66;03m# Compute accuracy for each possible representation\u001B[39;00m\n\u001B[1;32m--> 221\u001B[0m y_type, y_true, y_pred \u001B[38;5;241m=\u001B[39m \u001B[43m_check_targets\u001B[49m\u001B[43m(\u001B[49m\u001B[43my_true\u001B[49m\u001B[43m,\u001B[49m\u001B[43m \u001B[49m\u001B[43my_pred\u001B[49m\u001B[43m)\u001B[49m\n\u001B[0;32m    222\u001B[0m check_consistent_length(y_true, y_pred, sample_weight)\n\u001B[0;32m    223\u001B[0m \u001B[38;5;28;01mif\u001B[39;00m y_type\u001B[38;5;241m.\u001B[39mstartswith(\u001B[38;5;124m\"\u001B[39m\u001B[38;5;124mmultilabel\u001B[39m\u001B[38;5;124m\"\u001B[39m):\n",
      "File \u001B[1;32mC:\\conjunct\\unline\\venv\\lib\\site-packages\\sklearn\\metrics\\_classification.py:95\u001B[0m, in \u001B[0;36m_check_targets\u001B[1;34m(y_true, y_pred)\u001B[0m\n\u001B[0;32m     92\u001B[0m     y_type \u001B[38;5;241m=\u001B[39m {\u001B[38;5;124m\"\u001B[39m\u001B[38;5;124mmulticlass\u001B[39m\u001B[38;5;124m\"\u001B[39m}\n\u001B[0;32m     94\u001B[0m \u001B[38;5;28;01mif\u001B[39;00m \u001B[38;5;28mlen\u001B[39m(y_type) \u001B[38;5;241m>\u001B[39m \u001B[38;5;241m1\u001B[39m:\n\u001B[1;32m---> 95\u001B[0m     \u001B[38;5;28;01mraise\u001B[39;00m \u001B[38;5;167;01mValueError\u001B[39;00m(\n\u001B[0;32m     96\u001B[0m         \u001B[38;5;124m\"\u001B[39m\u001B[38;5;124mClassification metrics can\u001B[39m\u001B[38;5;124m'\u001B[39m\u001B[38;5;124mt handle a mix of \u001B[39m\u001B[38;5;132;01m{0}\u001B[39;00m\u001B[38;5;124m and \u001B[39m\u001B[38;5;132;01m{1}\u001B[39;00m\u001B[38;5;124m targets\u001B[39m\u001B[38;5;124m\"\u001B[39m\u001B[38;5;241m.\u001B[39mformat(\n\u001B[0;32m     97\u001B[0m             type_true, type_pred\n\u001B[0;32m     98\u001B[0m         )\n\u001B[0;32m     99\u001B[0m     )\n\u001B[0;32m    101\u001B[0m \u001B[38;5;66;03m# We can't have more than one value on y_type => The set is no more needed\u001B[39;00m\n\u001B[0;32m    102\u001B[0m y_type \u001B[38;5;241m=\u001B[39m y_type\u001B[38;5;241m.\u001B[39mpop()\n",
      "\u001B[1;31mValueError\u001B[0m: Classification metrics can't handle a mix of binary and multiclass-multioutput targets"
     ]
    }
   ],
   "source": [
    "evaluate_model(test_dl, model)"
   ]
  },
  {
   "cell_type": "code",
   "execution_count": null,
   "metadata": {
    "id": "2-eTEQXn0MtQ"
   },
   "outputs": [],
   "source": []
  }
 ],
 "metadata": {
  "accelerator": "GPU",
  "colab": {
   "provenance": []
  },
  "gpuClass": "standard",
  "kernelspec": {
   "display_name": "venv",
   "language": "python",
   "name": "python3"
  },
  "language_info": {
   "codemirror_mode": {
    "name": "ipython",
    "version": 3
   },
   "file_extension": ".py",
   "mimetype": "text/x-python",
   "name": "python",
   "nbconvert_exporter": "python",
   "pygments_lexer": "ipython3",
   "version": "3.9.13"
  },
  "vscode": {
   "interpreter": {
    "hash": "2c996da107c070a32ef944c87098e0b0c9a82853a74b98d717571bb898df22ed"
   }
  },
  "widgets": {
   "application/vnd.jupyter.widget-state+json": {
    "af7cde1332374d3eb4cfb5b472822504": {
     "model_module": "@jupyter-widgets/controls",
     "model_name": "HBoxModel",
     "model_module_version": "1.5.0",
     "state": {
      "_dom_classes": [],
      "_model_module": "@jupyter-widgets/controls",
      "_model_module_version": "1.5.0",
      "_model_name": "HBoxModel",
      "_view_count": null,
      "_view_module": "@jupyter-widgets/controls",
      "_view_module_version": "1.5.0",
      "_view_name": "HBoxView",
      "box_style": "",
      "children": [
       "IPY_MODEL_755b237ad4ee4fed8432ef3bdd1ca704",
       "IPY_MODEL_eb016e93ef024842ae928546a0b79816",
       "IPY_MODEL_bc9d5374127748f3a0e42bdba957fe78"
      ],
      "layout": "IPY_MODEL_8b11780ba4ff41da8508ea9410a6f908"
     }
    },
    "755b237ad4ee4fed8432ef3bdd1ca704": {
     "model_module": "@jupyter-widgets/controls",
     "model_name": "HTMLModel",
     "model_module_version": "1.5.0",
     "state": {
      "_dom_classes": [],
      "_model_module": "@jupyter-widgets/controls",
      "_model_module_version": "1.5.0",
      "_model_name": "HTMLModel",
      "_view_count": null,
      "_view_module": "@jupyter-widgets/controls",
      "_view_module_version": "1.5.0",
      "_view_name": "HTMLView",
      "description": "",
      "description_tooltip": null,
      "layout": "IPY_MODEL_773f9d91b09f4645b411a989e4d25063",
      "placeholder": "​",
      "style": "IPY_MODEL_db09b44571df4673b1a5dd41e12c19bd",
      "value": "Epoch [0/10]: 100%"
     }
    },
    "eb016e93ef024842ae928546a0b79816": {
     "model_module": "@jupyter-widgets/controls",
     "model_name": "FloatProgressModel",
     "model_module_version": "1.5.0",
     "state": {
      "_dom_classes": [],
      "_model_module": "@jupyter-widgets/controls",
      "_model_module_version": "1.5.0",
      "_model_name": "FloatProgressModel",
      "_view_count": null,
      "_view_module": "@jupyter-widgets/controls",
      "_view_module_version": "1.5.0",
      "_view_name": "ProgressView",
      "bar_style": "success",
      "description": "",
      "description_tooltip": null,
      "layout": "IPY_MODEL_e41d1affea2543bbb3f408d2333c3052",
      "max": 1676,
      "min": 0,
      "orientation": "horizontal",
      "style": "IPY_MODEL_01b15b87bfda4ce6acd08be5739e2c21",
      "value": 1676
     }
    },
    "bc9d5374127748f3a0e42bdba957fe78": {
     "model_module": "@jupyter-widgets/controls",
     "model_name": "HTMLModel",
     "model_module_version": "1.5.0",
     "state": {
      "_dom_classes": [],
      "_model_module": "@jupyter-widgets/controls",
      "_model_module_version": "1.5.0",
      "_model_name": "HTMLModel",
      "_view_count": null,
      "_view_module": "@jupyter-widgets/controls",
      "_view_module_version": "1.5.0",
      "_view_name": "HTMLView",
      "description": "",
      "description_tooltip": null,
      "layout": "IPY_MODEL_df768cd70e364c12b6f437fb998849be",
      "placeholder": "​",
      "style": "IPY_MODEL_c6eb2213089a4be184763c126c52d801",
      "value": " 1676/1676 [10:23&lt;00:00,  2.95it/s]"
     }
    },
    "8b11780ba4ff41da8508ea9410a6f908": {
     "model_module": "@jupyter-widgets/base",
     "model_name": "LayoutModel",
     "model_module_version": "1.2.0",
     "state": {
      "_model_module": "@jupyter-widgets/base",
      "_model_module_version": "1.2.0",
      "_model_name": "LayoutModel",
      "_view_count": null,
      "_view_module": "@jupyter-widgets/base",
      "_view_module_version": "1.2.0",
      "_view_name": "LayoutView",
      "align_content": null,
      "align_items": null,
      "align_self": null,
      "border": null,
      "bottom": null,
      "display": null,
      "flex": null,
      "flex_flow": null,
      "grid_area": null,
      "grid_auto_columns": null,
      "grid_auto_flow": null,
      "grid_auto_rows": null,
      "grid_column": null,
      "grid_gap": null,
      "grid_row": null,
      "grid_template_areas": null,
      "grid_template_columns": null,
      "grid_template_rows": null,
      "height": null,
      "justify_content": null,
      "justify_items": null,
      "left": null,
      "margin": null,
      "max_height": null,
      "max_width": null,
      "min_height": null,
      "min_width": null,
      "object_fit": null,
      "object_position": null,
      "order": null,
      "overflow": null,
      "overflow_x": null,
      "overflow_y": null,
      "padding": null,
      "right": null,
      "top": null,
      "visibility": null,
      "width": null
     }
    },
    "773f9d91b09f4645b411a989e4d25063": {
     "model_module": "@jupyter-widgets/base",
     "model_name": "LayoutModel",
     "model_module_version": "1.2.0",
     "state": {
      "_model_module": "@jupyter-widgets/base",
      "_model_module_version": "1.2.0",
      "_model_name": "LayoutModel",
      "_view_count": null,
      "_view_module": "@jupyter-widgets/base",
      "_view_module_version": "1.2.0",
      "_view_name": "LayoutView",
      "align_content": null,
      "align_items": null,
      "align_self": null,
      "border": null,
      "bottom": null,
      "display": null,
      "flex": null,
      "flex_flow": null,
      "grid_area": null,
      "grid_auto_columns": null,
      "grid_auto_flow": null,
      "grid_auto_rows": null,
      "grid_column": null,
      "grid_gap": null,
      "grid_row": null,
      "grid_template_areas": null,
      "grid_template_columns": null,
      "grid_template_rows": null,
      "height": null,
      "justify_content": null,
      "justify_items": null,
      "left": null,
      "margin": null,
      "max_height": null,
      "max_width": null,
      "min_height": null,
      "min_width": null,
      "object_fit": null,
      "object_position": null,
      "order": null,
      "overflow": null,
      "overflow_x": null,
      "overflow_y": null,
      "padding": null,
      "right": null,
      "top": null,
      "visibility": null,
      "width": null
     }
    },
    "db09b44571df4673b1a5dd41e12c19bd": {
     "model_module": "@jupyter-widgets/controls",
     "model_name": "DescriptionStyleModel",
     "model_module_version": "1.5.0",
     "state": {
      "_model_module": "@jupyter-widgets/controls",
      "_model_module_version": "1.5.0",
      "_model_name": "DescriptionStyleModel",
      "_view_count": null,
      "_view_module": "@jupyter-widgets/base",
      "_view_module_version": "1.2.0",
      "_view_name": "StyleView",
      "description_width": ""
     }
    },
    "e41d1affea2543bbb3f408d2333c3052": {
     "model_module": "@jupyter-widgets/base",
     "model_name": "LayoutModel",
     "model_module_version": "1.2.0",
     "state": {
      "_model_module": "@jupyter-widgets/base",
      "_model_module_version": "1.2.0",
      "_model_name": "LayoutModel",
      "_view_count": null,
      "_view_module": "@jupyter-widgets/base",
      "_view_module_version": "1.2.0",
      "_view_name": "LayoutView",
      "align_content": null,
      "align_items": null,
      "align_self": null,
      "border": null,
      "bottom": null,
      "display": null,
      "flex": null,
      "flex_flow": null,
      "grid_area": null,
      "grid_auto_columns": null,
      "grid_auto_flow": null,
      "grid_auto_rows": null,
      "grid_column": null,
      "grid_gap": null,
      "grid_row": null,
      "grid_template_areas": null,
      "grid_template_columns": null,
      "grid_template_rows": null,
      "height": null,
      "justify_content": null,
      "justify_items": null,
      "left": null,
      "margin": null,
      "max_height": null,
      "max_width": null,
      "min_height": null,
      "min_width": null,
      "object_fit": null,
      "object_position": null,
      "order": null,
      "overflow": null,
      "overflow_x": null,
      "overflow_y": null,
      "padding": null,
      "right": null,
      "top": null,
      "visibility": null,
      "width": null
     }
    },
    "01b15b87bfda4ce6acd08be5739e2c21": {
     "model_module": "@jupyter-widgets/controls",
     "model_name": "ProgressStyleModel",
     "model_module_version": "1.5.0",
     "state": {
      "_model_module": "@jupyter-widgets/controls",
      "_model_module_version": "1.5.0",
      "_model_name": "ProgressStyleModel",
      "_view_count": null,
      "_view_module": "@jupyter-widgets/base",
      "_view_module_version": "1.2.0",
      "_view_name": "StyleView",
      "bar_color": null,
      "description_width": ""
     }
    },
    "df768cd70e364c12b6f437fb998849be": {
     "model_module": "@jupyter-widgets/base",
     "model_name": "LayoutModel",
     "model_module_version": "1.2.0",
     "state": {
      "_model_module": "@jupyter-widgets/base",
      "_model_module_version": "1.2.0",
      "_model_name": "LayoutModel",
      "_view_count": null,
      "_view_module": "@jupyter-widgets/base",
      "_view_module_version": "1.2.0",
      "_view_name": "LayoutView",
      "align_content": null,
      "align_items": null,
      "align_self": null,
      "border": null,
      "bottom": null,
      "display": null,
      "flex": null,
      "flex_flow": null,
      "grid_area": null,
      "grid_auto_columns": null,
      "grid_auto_flow": null,
      "grid_auto_rows": null,
      "grid_column": null,
      "grid_gap": null,
      "grid_row": null,
      "grid_template_areas": null,
      "grid_template_columns": null,
      "grid_template_rows": null,
      "height": null,
      "justify_content": null,
      "justify_items": null,
      "left": null,
      "margin": null,
      "max_height": null,
      "max_width": null,
      "min_height": null,
      "min_width": null,
      "object_fit": null,
      "object_position": null,
      "order": null,
      "overflow": null,
      "overflow_x": null,
      "overflow_y": null,
      "padding": null,
      "right": null,
      "top": null,
      "visibility": null,
      "width": null
     }
    },
    "c6eb2213089a4be184763c126c52d801": {
     "model_module": "@jupyter-widgets/controls",
     "model_name": "DescriptionStyleModel",
     "model_module_version": "1.5.0",
     "state": {
      "_model_module": "@jupyter-widgets/controls",
      "_model_module_version": "1.5.0",
      "_model_name": "DescriptionStyleModel",
      "_view_count": null,
      "_view_module": "@jupyter-widgets/base",
      "_view_module_version": "1.2.0",
      "_view_name": "StyleView",
      "description_width": ""
     }
    },
    "864a85506a6646dbb248dd64323d443f": {
     "model_module": "@jupyter-widgets/controls",
     "model_name": "HBoxModel",
     "model_module_version": "1.5.0",
     "state": {
      "_dom_classes": [],
      "_model_module": "@jupyter-widgets/controls",
      "_model_module_version": "1.5.0",
      "_model_name": "HBoxModel",
      "_view_count": null,
      "_view_module": "@jupyter-widgets/controls",
      "_view_module_version": "1.5.0",
      "_view_name": "HBoxView",
      "box_style": "",
      "children": [
       "IPY_MODEL_d7c4785f9a0e442cb4c2a578baf46541",
       "IPY_MODEL_a6802d272bfe4c4ba83c17f30e917a26",
       "IPY_MODEL_682e8085789241498d033f4a45efa2dc"
      ],
      "layout": "IPY_MODEL_a858693ed69b4580bb1a27198969043e"
     }
    },
    "d7c4785f9a0e442cb4c2a578baf46541": {
     "model_module": "@jupyter-widgets/controls",
     "model_name": "HTMLModel",
     "model_module_version": "1.5.0",
     "state": {
      "_dom_classes": [],
      "_model_module": "@jupyter-widgets/controls",
      "_model_module_version": "1.5.0",
      "_model_name": "HTMLModel",
      "_view_count": null,
      "_view_module": "@jupyter-widgets/controls",
      "_view_module_version": "1.5.0",
      "_view_name": "HTMLView",
      "description": "",
      "description_tooltip": null,
      "layout": "IPY_MODEL_23841ef7abfc4233ab62d8676e75eeaf",
      "placeholder": "​",
      "style": "IPY_MODEL_5b610a9841304cb9a251207cb354b9f4",
      "value": "Epoch [1/10]: 100%"
     }
    },
    "a6802d272bfe4c4ba83c17f30e917a26": {
     "model_module": "@jupyter-widgets/controls",
     "model_name": "FloatProgressModel",
     "model_module_version": "1.5.0",
     "state": {
      "_dom_classes": [],
      "_model_module": "@jupyter-widgets/controls",
      "_model_module_version": "1.5.0",
      "_model_name": "FloatProgressModel",
      "_view_count": null,
      "_view_module": "@jupyter-widgets/controls",
      "_view_module_version": "1.5.0",
      "_view_name": "ProgressView",
      "bar_style": "success",
      "description": "",
      "description_tooltip": null,
      "layout": "IPY_MODEL_2f4a7c9588704e87b5987b08fce4c742",
      "max": 1676,
      "min": 0,
      "orientation": "horizontal",
      "style": "IPY_MODEL_dc41e7134cc141fd82936c0fedcb7b4a",
      "value": 1676
     }
    },
    "682e8085789241498d033f4a45efa2dc": {
     "model_module": "@jupyter-widgets/controls",
     "model_name": "HTMLModel",
     "model_module_version": "1.5.0",
     "state": {
      "_dom_classes": [],
      "_model_module": "@jupyter-widgets/controls",
      "_model_module_version": "1.5.0",
      "_model_name": "HTMLModel",
      "_view_count": null,
      "_view_module": "@jupyter-widgets/controls",
      "_view_module_version": "1.5.0",
      "_view_name": "HTMLView",
      "description": "",
      "description_tooltip": null,
      "layout": "IPY_MODEL_35d46d5392234b7eb0eca3d8346debae",
      "placeholder": "​",
      "style": "IPY_MODEL_ee68db8654f74b20a0f1cb8182f4f969",
      "value": " 1676/1676 [10:17&lt;00:00,  3.47it/s]"
     }
    },
    "a858693ed69b4580bb1a27198969043e": {
     "model_module": "@jupyter-widgets/base",
     "model_name": "LayoutModel",
     "model_module_version": "1.2.0",
     "state": {
      "_model_module": "@jupyter-widgets/base",
      "_model_module_version": "1.2.0",
      "_model_name": "LayoutModel",
      "_view_count": null,
      "_view_module": "@jupyter-widgets/base",
      "_view_module_version": "1.2.0",
      "_view_name": "LayoutView",
      "align_content": null,
      "align_items": null,
      "align_self": null,
      "border": null,
      "bottom": null,
      "display": null,
      "flex": null,
      "flex_flow": null,
      "grid_area": null,
      "grid_auto_columns": null,
      "grid_auto_flow": null,
      "grid_auto_rows": null,
      "grid_column": null,
      "grid_gap": null,
      "grid_row": null,
      "grid_template_areas": null,
      "grid_template_columns": null,
      "grid_template_rows": null,
      "height": null,
      "justify_content": null,
      "justify_items": null,
      "left": null,
      "margin": null,
      "max_height": null,
      "max_width": null,
      "min_height": null,
      "min_width": null,
      "object_fit": null,
      "object_position": null,
      "order": null,
      "overflow": null,
      "overflow_x": null,
      "overflow_y": null,
      "padding": null,
      "right": null,
      "top": null,
      "visibility": null,
      "width": null
     }
    },
    "23841ef7abfc4233ab62d8676e75eeaf": {
     "model_module": "@jupyter-widgets/base",
     "model_name": "LayoutModel",
     "model_module_version": "1.2.0",
     "state": {
      "_model_module": "@jupyter-widgets/base",
      "_model_module_version": "1.2.0",
      "_model_name": "LayoutModel",
      "_view_count": null,
      "_view_module": "@jupyter-widgets/base",
      "_view_module_version": "1.2.0",
      "_view_name": "LayoutView",
      "align_content": null,
      "align_items": null,
      "align_self": null,
      "border": null,
      "bottom": null,
      "display": null,
      "flex": null,
      "flex_flow": null,
      "grid_area": null,
      "grid_auto_columns": null,
      "grid_auto_flow": null,
      "grid_auto_rows": null,
      "grid_column": null,
      "grid_gap": null,
      "grid_row": null,
      "grid_template_areas": null,
      "grid_template_columns": null,
      "grid_template_rows": null,
      "height": null,
      "justify_content": null,
      "justify_items": null,
      "left": null,
      "margin": null,
      "max_height": null,
      "max_width": null,
      "min_height": null,
      "min_width": null,
      "object_fit": null,
      "object_position": null,
      "order": null,
      "overflow": null,
      "overflow_x": null,
      "overflow_y": null,
      "padding": null,
      "right": null,
      "top": null,
      "visibility": null,
      "width": null
     }
    },
    "5b610a9841304cb9a251207cb354b9f4": {
     "model_module": "@jupyter-widgets/controls",
     "model_name": "DescriptionStyleModel",
     "model_module_version": "1.5.0",
     "state": {
      "_model_module": "@jupyter-widgets/controls",
      "_model_module_version": "1.5.0",
      "_model_name": "DescriptionStyleModel",
      "_view_count": null,
      "_view_module": "@jupyter-widgets/base",
      "_view_module_version": "1.2.0",
      "_view_name": "StyleView",
      "description_width": ""
     }
    },
    "2f4a7c9588704e87b5987b08fce4c742": {
     "model_module": "@jupyter-widgets/base",
     "model_name": "LayoutModel",
     "model_module_version": "1.2.0",
     "state": {
      "_model_module": "@jupyter-widgets/base",
      "_model_module_version": "1.2.0",
      "_model_name": "LayoutModel",
      "_view_count": null,
      "_view_module": "@jupyter-widgets/base",
      "_view_module_version": "1.2.0",
      "_view_name": "LayoutView",
      "align_content": null,
      "align_items": null,
      "align_self": null,
      "border": null,
      "bottom": null,
      "display": null,
      "flex": null,
      "flex_flow": null,
      "grid_area": null,
      "grid_auto_columns": null,
      "grid_auto_flow": null,
      "grid_auto_rows": null,
      "grid_column": null,
      "grid_gap": null,
      "grid_row": null,
      "grid_template_areas": null,
      "grid_template_columns": null,
      "grid_template_rows": null,
      "height": null,
      "justify_content": null,
      "justify_items": null,
      "left": null,
      "margin": null,
      "max_height": null,
      "max_width": null,
      "min_height": null,
      "min_width": null,
      "object_fit": null,
      "object_position": null,
      "order": null,
      "overflow": null,
      "overflow_x": null,
      "overflow_y": null,
      "padding": null,
      "right": null,
      "top": null,
      "visibility": null,
      "width": null
     }
    },
    "dc41e7134cc141fd82936c0fedcb7b4a": {
     "model_module": "@jupyter-widgets/controls",
     "model_name": "ProgressStyleModel",
     "model_module_version": "1.5.0",
     "state": {
      "_model_module": "@jupyter-widgets/controls",
      "_model_module_version": "1.5.0",
      "_model_name": "ProgressStyleModel",
      "_view_count": null,
      "_view_module": "@jupyter-widgets/base",
      "_view_module_version": "1.2.0",
      "_view_name": "StyleView",
      "bar_color": null,
      "description_width": ""
     }
    },
    "35d46d5392234b7eb0eca3d8346debae": {
     "model_module": "@jupyter-widgets/base",
     "model_name": "LayoutModel",
     "model_module_version": "1.2.0",
     "state": {
      "_model_module": "@jupyter-widgets/base",
      "_model_module_version": "1.2.0",
      "_model_name": "LayoutModel",
      "_view_count": null,
      "_view_module": "@jupyter-widgets/base",
      "_view_module_version": "1.2.0",
      "_view_name": "LayoutView",
      "align_content": null,
      "align_items": null,
      "align_self": null,
      "border": null,
      "bottom": null,
      "display": null,
      "flex": null,
      "flex_flow": null,
      "grid_area": null,
      "grid_auto_columns": null,
      "grid_auto_flow": null,
      "grid_auto_rows": null,
      "grid_column": null,
      "grid_gap": null,
      "grid_row": null,
      "grid_template_areas": null,
      "grid_template_columns": null,
      "grid_template_rows": null,
      "height": null,
      "justify_content": null,
      "justify_items": null,
      "left": null,
      "margin": null,
      "max_height": null,
      "max_width": null,
      "min_height": null,
      "min_width": null,
      "object_fit": null,
      "object_position": null,
      "order": null,
      "overflow": null,
      "overflow_x": null,
      "overflow_y": null,
      "padding": null,
      "right": null,
      "top": null,
      "visibility": null,
      "width": null
     }
    },
    "ee68db8654f74b20a0f1cb8182f4f969": {
     "model_module": "@jupyter-widgets/controls",
     "model_name": "DescriptionStyleModel",
     "model_module_version": "1.5.0",
     "state": {
      "_model_module": "@jupyter-widgets/controls",
      "_model_module_version": "1.5.0",
      "_model_name": "DescriptionStyleModel",
      "_view_count": null,
      "_view_module": "@jupyter-widgets/base",
      "_view_module_version": "1.2.0",
      "_view_name": "StyleView",
      "description_width": ""
     }
    },
    "74b8228ba6f549288fdadab97339a00e": {
     "model_module": "@jupyter-widgets/controls",
     "model_name": "HBoxModel",
     "model_module_version": "1.5.0",
     "state": {
      "_dom_classes": [],
      "_model_module": "@jupyter-widgets/controls",
      "_model_module_version": "1.5.0",
      "_model_name": "HBoxModel",
      "_view_count": null,
      "_view_module": "@jupyter-widgets/controls",
      "_view_module_version": "1.5.0",
      "_view_name": "HBoxView",
      "box_style": "",
      "children": [
       "IPY_MODEL_c2d474f6edf64b6989fccf9eca7c1719",
       "IPY_MODEL_7eb8b29112f14346a208d38dd22d5d62",
       "IPY_MODEL_dc560e4c704f4191bfa5ab85abaf5276"
      ],
      "layout": "IPY_MODEL_80d111a94f8b4376b4f12e9538b06c38"
     }
    },
    "c2d474f6edf64b6989fccf9eca7c1719": {
     "model_module": "@jupyter-widgets/controls",
     "model_name": "HTMLModel",
     "model_module_version": "1.5.0",
     "state": {
      "_dom_classes": [],
      "_model_module": "@jupyter-widgets/controls",
      "_model_module_version": "1.5.0",
      "_model_name": "HTMLModel",
      "_view_count": null,
      "_view_module": "@jupyter-widgets/controls",
      "_view_module_version": "1.5.0",
      "_view_name": "HTMLView",
      "description": "",
      "description_tooltip": null,
      "layout": "IPY_MODEL_fc0ffac7ef4041dd96763337616a88de",
      "placeholder": "​",
      "style": "IPY_MODEL_c4ed51f5066249e586089c370d1400df",
      "value": "Epoch [2/10]: 100%"
     }
    },
    "7eb8b29112f14346a208d38dd22d5d62": {
     "model_module": "@jupyter-widgets/controls",
     "model_name": "FloatProgressModel",
     "model_module_version": "1.5.0",
     "state": {
      "_dom_classes": [],
      "_model_module": "@jupyter-widgets/controls",
      "_model_module_version": "1.5.0",
      "_model_name": "FloatProgressModel",
      "_view_count": null,
      "_view_module": "@jupyter-widgets/controls",
      "_view_module_version": "1.5.0",
      "_view_name": "ProgressView",
      "bar_style": "success",
      "description": "",
      "description_tooltip": null,
      "layout": "IPY_MODEL_908661e7215e4ab5bc8364ebf9ebee09",
      "max": 1676,
      "min": 0,
      "orientation": "horizontal",
      "style": "IPY_MODEL_90549da7c4bb41aaa06a3260e3f14aa1",
      "value": 1676
     }
    },
    "dc560e4c704f4191bfa5ab85abaf5276": {
     "model_module": "@jupyter-widgets/controls",
     "model_name": "HTMLModel",
     "model_module_version": "1.5.0",
     "state": {
      "_dom_classes": [],
      "_model_module": "@jupyter-widgets/controls",
      "_model_module_version": "1.5.0",
      "_model_name": "HTMLModel",
      "_view_count": null,
      "_view_module": "@jupyter-widgets/controls",
      "_view_module_version": "1.5.0",
      "_view_name": "HTMLView",
      "description": "",
      "description_tooltip": null,
      "layout": "IPY_MODEL_dc9c777992db47d0b33b064d58b9698b",
      "placeholder": "​",
      "style": "IPY_MODEL_83988b2bd9884748abd6e4e1694ee995",
      "value": " 1676/1676 [10:16&lt;00:00,  3.46it/s]"
     }
    },
    "80d111a94f8b4376b4f12e9538b06c38": {
     "model_module": "@jupyter-widgets/base",
     "model_name": "LayoutModel",
     "model_module_version": "1.2.0",
     "state": {
      "_model_module": "@jupyter-widgets/base",
      "_model_module_version": "1.2.0",
      "_model_name": "LayoutModel",
      "_view_count": null,
      "_view_module": "@jupyter-widgets/base",
      "_view_module_version": "1.2.0",
      "_view_name": "LayoutView",
      "align_content": null,
      "align_items": null,
      "align_self": null,
      "border": null,
      "bottom": null,
      "display": null,
      "flex": null,
      "flex_flow": null,
      "grid_area": null,
      "grid_auto_columns": null,
      "grid_auto_flow": null,
      "grid_auto_rows": null,
      "grid_column": null,
      "grid_gap": null,
      "grid_row": null,
      "grid_template_areas": null,
      "grid_template_columns": null,
      "grid_template_rows": null,
      "height": null,
      "justify_content": null,
      "justify_items": null,
      "left": null,
      "margin": null,
      "max_height": null,
      "max_width": null,
      "min_height": null,
      "min_width": null,
      "object_fit": null,
      "object_position": null,
      "order": null,
      "overflow": null,
      "overflow_x": null,
      "overflow_y": null,
      "padding": null,
      "right": null,
      "top": null,
      "visibility": null,
      "width": null
     }
    },
    "fc0ffac7ef4041dd96763337616a88de": {
     "model_module": "@jupyter-widgets/base",
     "model_name": "LayoutModel",
     "model_module_version": "1.2.0",
     "state": {
      "_model_module": "@jupyter-widgets/base",
      "_model_module_version": "1.2.0",
      "_model_name": "LayoutModel",
      "_view_count": null,
      "_view_module": "@jupyter-widgets/base",
      "_view_module_version": "1.2.0",
      "_view_name": "LayoutView",
      "align_content": null,
      "align_items": null,
      "align_self": null,
      "border": null,
      "bottom": null,
      "display": null,
      "flex": null,
      "flex_flow": null,
      "grid_area": null,
      "grid_auto_columns": null,
      "grid_auto_flow": null,
      "grid_auto_rows": null,
      "grid_column": null,
      "grid_gap": null,
      "grid_row": null,
      "grid_template_areas": null,
      "grid_template_columns": null,
      "grid_template_rows": null,
      "height": null,
      "justify_content": null,
      "justify_items": null,
      "left": null,
      "margin": null,
      "max_height": null,
      "max_width": null,
      "min_height": null,
      "min_width": null,
      "object_fit": null,
      "object_position": null,
      "order": null,
      "overflow": null,
      "overflow_x": null,
      "overflow_y": null,
      "padding": null,
      "right": null,
      "top": null,
      "visibility": null,
      "width": null
     }
    },
    "c4ed51f5066249e586089c370d1400df": {
     "model_module": "@jupyter-widgets/controls",
     "model_name": "DescriptionStyleModel",
     "model_module_version": "1.5.0",
     "state": {
      "_model_module": "@jupyter-widgets/controls",
      "_model_module_version": "1.5.0",
      "_model_name": "DescriptionStyleModel",
      "_view_count": null,
      "_view_module": "@jupyter-widgets/base",
      "_view_module_version": "1.2.0",
      "_view_name": "StyleView",
      "description_width": ""
     }
    },
    "908661e7215e4ab5bc8364ebf9ebee09": {
     "model_module": "@jupyter-widgets/base",
     "model_name": "LayoutModel",
     "model_module_version": "1.2.0",
     "state": {
      "_model_module": "@jupyter-widgets/base",
      "_model_module_version": "1.2.0",
      "_model_name": "LayoutModel",
      "_view_count": null,
      "_view_module": "@jupyter-widgets/base",
      "_view_module_version": "1.2.0",
      "_view_name": "LayoutView",
      "align_content": null,
      "align_items": null,
      "align_self": null,
      "border": null,
      "bottom": null,
      "display": null,
      "flex": null,
      "flex_flow": null,
      "grid_area": null,
      "grid_auto_columns": null,
      "grid_auto_flow": null,
      "grid_auto_rows": null,
      "grid_column": null,
      "grid_gap": null,
      "grid_row": null,
      "grid_template_areas": null,
      "grid_template_columns": null,
      "grid_template_rows": null,
      "height": null,
      "justify_content": null,
      "justify_items": null,
      "left": null,
      "margin": null,
      "max_height": null,
      "max_width": null,
      "min_height": null,
      "min_width": null,
      "object_fit": null,
      "object_position": null,
      "order": null,
      "overflow": null,
      "overflow_x": null,
      "overflow_y": null,
      "padding": null,
      "right": null,
      "top": null,
      "visibility": null,
      "width": null
     }
    },
    "90549da7c4bb41aaa06a3260e3f14aa1": {
     "model_module": "@jupyter-widgets/controls",
     "model_name": "ProgressStyleModel",
     "model_module_version": "1.5.0",
     "state": {
      "_model_module": "@jupyter-widgets/controls",
      "_model_module_version": "1.5.0",
      "_model_name": "ProgressStyleModel",
      "_view_count": null,
      "_view_module": "@jupyter-widgets/base",
      "_view_module_version": "1.2.0",
      "_view_name": "StyleView",
      "bar_color": null,
      "description_width": ""
     }
    },
    "dc9c777992db47d0b33b064d58b9698b": {
     "model_module": "@jupyter-widgets/base",
     "model_name": "LayoutModel",
     "model_module_version": "1.2.0",
     "state": {
      "_model_module": "@jupyter-widgets/base",
      "_model_module_version": "1.2.0",
      "_model_name": "LayoutModel",
      "_view_count": null,
      "_view_module": "@jupyter-widgets/base",
      "_view_module_version": "1.2.0",
      "_view_name": "LayoutView",
      "align_content": null,
      "align_items": null,
      "align_self": null,
      "border": null,
      "bottom": null,
      "display": null,
      "flex": null,
      "flex_flow": null,
      "grid_area": null,
      "grid_auto_columns": null,
      "grid_auto_flow": null,
      "grid_auto_rows": null,
      "grid_column": null,
      "grid_gap": null,
      "grid_row": null,
      "grid_template_areas": null,
      "grid_template_columns": null,
      "grid_template_rows": null,
      "height": null,
      "justify_content": null,
      "justify_items": null,
      "left": null,
      "margin": null,
      "max_height": null,
      "max_width": null,
      "min_height": null,
      "min_width": null,
      "object_fit": null,
      "object_position": null,
      "order": null,
      "overflow": null,
      "overflow_x": null,
      "overflow_y": null,
      "padding": null,
      "right": null,
      "top": null,
      "visibility": null,
      "width": null
     }
    },
    "83988b2bd9884748abd6e4e1694ee995": {
     "model_module": "@jupyter-widgets/controls",
     "model_name": "DescriptionStyleModel",
     "model_module_version": "1.5.0",
     "state": {
      "_model_module": "@jupyter-widgets/controls",
      "_model_module_version": "1.5.0",
      "_model_name": "DescriptionStyleModel",
      "_view_count": null,
      "_view_module": "@jupyter-widgets/base",
      "_view_module_version": "1.2.0",
      "_view_name": "StyleView",
      "description_width": ""
     }
    },
    "8b24fedb1ca045f4818b7815dc4b7e98": {
     "model_module": "@jupyter-widgets/controls",
     "model_name": "HBoxModel",
     "model_module_version": "1.5.0",
     "state": {
      "_dom_classes": [],
      "_model_module": "@jupyter-widgets/controls",
      "_model_module_version": "1.5.0",
      "_model_name": "HBoxModel",
      "_view_count": null,
      "_view_module": "@jupyter-widgets/controls",
      "_view_module_version": "1.5.0",
      "_view_name": "HBoxView",
      "box_style": "",
      "children": [
       "IPY_MODEL_c0df999fad4b4bd6aff7999f8907e250",
       "IPY_MODEL_344a5b969b0145308d64fc69dae10139",
       "IPY_MODEL_811fb6bd86654a73be4f37f3fd20500b"
      ],
      "layout": "IPY_MODEL_7f9d345c406b48288881ab3ddd4ef242"
     }
    },
    "c0df999fad4b4bd6aff7999f8907e250": {
     "model_module": "@jupyter-widgets/controls",
     "model_name": "HTMLModel",
     "model_module_version": "1.5.0",
     "state": {
      "_dom_classes": [],
      "_model_module": "@jupyter-widgets/controls",
      "_model_module_version": "1.5.0",
      "_model_name": "HTMLModel",
      "_view_count": null,
      "_view_module": "@jupyter-widgets/controls",
      "_view_module_version": "1.5.0",
      "_view_name": "HTMLView",
      "description": "",
      "description_tooltip": null,
      "layout": "IPY_MODEL_97d5bd2f19ab4c35a5698a0ec5c2f844",
      "placeholder": "​",
      "style": "IPY_MODEL_d9b471c2310d4b52abfd7472ca8271a2",
      "value": "Epoch [3/10]:  17%"
     }
    },
    "344a5b969b0145308d64fc69dae10139": {
     "model_module": "@jupyter-widgets/controls",
     "model_name": "FloatProgressModel",
     "model_module_version": "1.5.0",
     "state": {
      "_dom_classes": [],
      "_model_module": "@jupyter-widgets/controls",
      "_model_module_version": "1.5.0",
      "_model_name": "FloatProgressModel",
      "_view_count": null,
      "_view_module": "@jupyter-widgets/controls",
      "_view_module_version": "1.5.0",
      "_view_name": "ProgressView",
      "bar_style": "danger",
      "description": "",
      "description_tooltip": null,
      "layout": "IPY_MODEL_cb0e512888c84eed81f296f8425c2e20",
      "max": 1676,
      "min": 0,
      "orientation": "horizontal",
      "style": "IPY_MODEL_6c3027add92844669f825f13b303bedb",
      "value": 289
     }
    },
    "811fb6bd86654a73be4f37f3fd20500b": {
     "model_module": "@jupyter-widgets/controls",
     "model_name": "HTMLModel",
     "model_module_version": "1.5.0",
     "state": {
      "_dom_classes": [],
      "_model_module": "@jupyter-widgets/controls",
      "_model_module_version": "1.5.0",
      "_model_name": "HTMLModel",
      "_view_count": null,
      "_view_module": "@jupyter-widgets/controls",
      "_view_module_version": "1.5.0",
      "_view_name": "HTMLView",
      "description": "",
      "description_tooltip": null,
      "layout": "IPY_MODEL_582f0c2ecb404e8fbfa05cf078ad32f7",
      "placeholder": "​",
      "style": "IPY_MODEL_759711d262294ff1818dd0f62b37c73e",
      "value": " 289/1676 [01:46&lt;08:31,  2.71it/s]"
     }
    },
    "7f9d345c406b48288881ab3ddd4ef242": {
     "model_module": "@jupyter-widgets/base",
     "model_name": "LayoutModel",
     "model_module_version": "1.2.0",
     "state": {
      "_model_module": "@jupyter-widgets/base",
      "_model_module_version": "1.2.0",
      "_model_name": "LayoutModel",
      "_view_count": null,
      "_view_module": "@jupyter-widgets/base",
      "_view_module_version": "1.2.0",
      "_view_name": "LayoutView",
      "align_content": null,
      "align_items": null,
      "align_self": null,
      "border": null,
      "bottom": null,
      "display": null,
      "flex": null,
      "flex_flow": null,
      "grid_area": null,
      "grid_auto_columns": null,
      "grid_auto_flow": null,
      "grid_auto_rows": null,
      "grid_column": null,
      "grid_gap": null,
      "grid_row": null,
      "grid_template_areas": null,
      "grid_template_columns": null,
      "grid_template_rows": null,
      "height": null,
      "justify_content": null,
      "justify_items": null,
      "left": null,
      "margin": null,
      "max_height": null,
      "max_width": null,
      "min_height": null,
      "min_width": null,
      "object_fit": null,
      "object_position": null,
      "order": null,
      "overflow": null,
      "overflow_x": null,
      "overflow_y": null,
      "padding": null,
      "right": null,
      "top": null,
      "visibility": null,
      "width": null
     }
    },
    "97d5bd2f19ab4c35a5698a0ec5c2f844": {
     "model_module": "@jupyter-widgets/base",
     "model_name": "LayoutModel",
     "model_module_version": "1.2.0",
     "state": {
      "_model_module": "@jupyter-widgets/base",
      "_model_module_version": "1.2.0",
      "_model_name": "LayoutModel",
      "_view_count": null,
      "_view_module": "@jupyter-widgets/base",
      "_view_module_version": "1.2.0",
      "_view_name": "LayoutView",
      "align_content": null,
      "align_items": null,
      "align_self": null,
      "border": null,
      "bottom": null,
      "display": null,
      "flex": null,
      "flex_flow": null,
      "grid_area": null,
      "grid_auto_columns": null,
      "grid_auto_flow": null,
      "grid_auto_rows": null,
      "grid_column": null,
      "grid_gap": null,
      "grid_row": null,
      "grid_template_areas": null,
      "grid_template_columns": null,
      "grid_template_rows": null,
      "height": null,
      "justify_content": null,
      "justify_items": null,
      "left": null,
      "margin": null,
      "max_height": null,
      "max_width": null,
      "min_height": null,
      "min_width": null,
      "object_fit": null,
      "object_position": null,
      "order": null,
      "overflow": null,
      "overflow_x": null,
      "overflow_y": null,
      "padding": null,
      "right": null,
      "top": null,
      "visibility": null,
      "width": null
     }
    },
    "d9b471c2310d4b52abfd7472ca8271a2": {
     "model_module": "@jupyter-widgets/controls",
     "model_name": "DescriptionStyleModel",
     "model_module_version": "1.5.0",
     "state": {
      "_model_module": "@jupyter-widgets/controls",
      "_model_module_version": "1.5.0",
      "_model_name": "DescriptionStyleModel",
      "_view_count": null,
      "_view_module": "@jupyter-widgets/base",
      "_view_module_version": "1.2.0",
      "_view_name": "StyleView",
      "description_width": ""
     }
    },
    "cb0e512888c84eed81f296f8425c2e20": {
     "model_module": "@jupyter-widgets/base",
     "model_name": "LayoutModel",
     "model_module_version": "1.2.0",
     "state": {
      "_model_module": "@jupyter-widgets/base",
      "_model_module_version": "1.2.0",
      "_model_name": "LayoutModel",
      "_view_count": null,
      "_view_module": "@jupyter-widgets/base",
      "_view_module_version": "1.2.0",
      "_view_name": "LayoutView",
      "align_content": null,
      "align_items": null,
      "align_self": null,
      "border": null,
      "bottom": null,
      "display": null,
      "flex": null,
      "flex_flow": null,
      "grid_area": null,
      "grid_auto_columns": null,
      "grid_auto_flow": null,
      "grid_auto_rows": null,
      "grid_column": null,
      "grid_gap": null,
      "grid_row": null,
      "grid_template_areas": null,
      "grid_template_columns": null,
      "grid_template_rows": null,
      "height": null,
      "justify_content": null,
      "justify_items": null,
      "left": null,
      "margin": null,
      "max_height": null,
      "max_width": null,
      "min_height": null,
      "min_width": null,
      "object_fit": null,
      "object_position": null,
      "order": null,
      "overflow": null,
      "overflow_x": null,
      "overflow_y": null,
      "padding": null,
      "right": null,
      "top": null,
      "visibility": null,
      "width": null
     }
    },
    "6c3027add92844669f825f13b303bedb": {
     "model_module": "@jupyter-widgets/controls",
     "model_name": "ProgressStyleModel",
     "model_module_version": "1.5.0",
     "state": {
      "_model_module": "@jupyter-widgets/controls",
      "_model_module_version": "1.5.0",
      "_model_name": "ProgressStyleModel",
      "_view_count": null,
      "_view_module": "@jupyter-widgets/base",
      "_view_module_version": "1.2.0",
      "_view_name": "StyleView",
      "bar_color": null,
      "description_width": ""
     }
    },
    "582f0c2ecb404e8fbfa05cf078ad32f7": {
     "model_module": "@jupyter-widgets/base",
     "model_name": "LayoutModel",
     "model_module_version": "1.2.0",
     "state": {
      "_model_module": "@jupyter-widgets/base",
      "_model_module_version": "1.2.0",
      "_model_name": "LayoutModel",
      "_view_count": null,
      "_view_module": "@jupyter-widgets/base",
      "_view_module_version": "1.2.0",
      "_view_name": "LayoutView",
      "align_content": null,
      "align_items": null,
      "align_self": null,
      "border": null,
      "bottom": null,
      "display": null,
      "flex": null,
      "flex_flow": null,
      "grid_area": null,
      "grid_auto_columns": null,
      "grid_auto_flow": null,
      "grid_auto_rows": null,
      "grid_column": null,
      "grid_gap": null,
      "grid_row": null,
      "grid_template_areas": null,
      "grid_template_columns": null,
      "grid_template_rows": null,
      "height": null,
      "justify_content": null,
      "justify_items": null,
      "left": null,
      "margin": null,
      "max_height": null,
      "max_width": null,
      "min_height": null,
      "min_width": null,
      "object_fit": null,
      "object_position": null,
      "order": null,
      "overflow": null,
      "overflow_x": null,
      "overflow_y": null,
      "padding": null,
      "right": null,
      "top": null,
      "visibility": null,
      "width": null
     }
    },
    "759711d262294ff1818dd0f62b37c73e": {
     "model_module": "@jupyter-widgets/controls",
     "model_name": "DescriptionStyleModel",
     "model_module_version": "1.5.0",
     "state": {
      "_model_module": "@jupyter-widgets/controls",
      "_model_module_version": "1.5.0",
      "_model_name": "DescriptionStyleModel",
      "_view_count": null,
      "_view_module": "@jupyter-widgets/base",
      "_view_module_version": "1.2.0",
      "_view_name": "StyleView",
      "description_width": ""
     }
    }
   }
  }
 },
 "nbformat": 4,
 "nbformat_minor": 0
}
